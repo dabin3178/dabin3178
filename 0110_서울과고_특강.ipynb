{
  "nbformat": 4,
  "nbformat_minor": 0,
  "metadata": {
    "colab": {
      "provenance": [],
      "authorship_tag": "ABX9TyP7reGymq902+Dz3jTj/vqS",
      "include_colab_link": true
    },
    "kernelspec": {
      "name": "python3",
      "display_name": "Python 3"
    },
    "language_info": {
      "name": "python"
    }
  },
  "cells": [
    {
      "cell_type": "markdown",
      "metadata": {
        "id": "view-in-github",
        "colab_type": "text"
      },
      "source": [
        "<a href=\"https://colab.research.google.com/github/dabin3178/dabin3178/blob/main/0110_%EC%84%9C%EC%9A%B8%EA%B3%BC%EA%B3%A0_%ED%8A%B9%EA%B0%95.ipynb\" target=\"_parent\"><img src=\"https://colab.research.google.com/assets/colab-badge.svg\" alt=\"Open In Colab\"/></a>"
      ]
    },
    {
      "cell_type": "markdown",
      "source": [
        "### 딥러닝 기초 실습"
      ],
      "metadata": {
        "id": "yK59pm1i4-IZ"
      }
    },
    {
      "cell_type": "code",
      "execution_count": 1,
      "metadata": {
        "id": "699WwfvIW5Fi"
      },
      "outputs": [],
      "source": [
        "import math\n",
        "import random\n",
        "\n",
        "a = random.uniform(-1,1)\n",
        "b = random.uniform(-1,1)\n",
        "c = random.uniform(-1,1)\n",
        "d = random.uniform(-1,1)\n",
        "e = random.uniform(-1,1)\n",
        "f = random.uniform(-1,1)\n",
        "g = random.uniform(-1,1)\n",
        "h = random.uniform(-1,1)\n",
        "i = random.uniform(-1,1)\n",
        "\n",
        "eta = 0.0001"
      ]
    },
    {
      "cell_type": "code",
      "source": [
        "def sigmoid(x):\n",
        "  return 1.0/(1.0+math.exp(-x))"
      ],
      "metadata": {
        "id": "RfxDt9ZciFFe"
      },
      "execution_count": 2,
      "outputs": []
    },
    {
      "cell_type": "code",
      "source": [
        "data = [(5, 10), (7,18),(10,8),(15,15),(20,3), (23,12)]\n",
        "labels=[-1,-1,+1,+1,-1,-1]"
      ],
      "metadata": {
        "id": "qSIO5M3hiKYs"
      },
      "execution_count": 5,
      "outputs": []
    },
    {
      "cell_type": "code",
      "source": [
        "for counter in range(1000):\n",
        "  da=db=dc=dd=de=df=dg=dh=di=0.0\n",
        "  for idx in range(len(data)):\n",
        "    x=float(data[idx][0])\n",
        "    y=float(data[idx][1])\n",
        "    z1=a*x + b*y + c\n",
        "    X = sigmoid(z1)\n",
        "    z2 = d*x +e*y + f\n",
        "    Y=sigmoid(z2)\n",
        "    z=g*X+h*Y+i\n",
        "    Z=labels[idx]\n",
        "    dz=2*(z-Z)\n",
        "    dz1=dz*g*sigmoid(z1)*(1.0-sigmoid(z1))\n",
        "    dz2=dz*g*sigmoid(z2)*(1.0-sigmoid(z2))\n",
        "    da+=dz1*x\n",
        "    db+=dz1*y\n",
        "    dc+=dz1\n",
        "    dd+=dz2*x\n",
        "    de+=dz2*y\n",
        "    df+=dz2\n",
        "    dg+=dz*X\n",
        "    dh+=dz*Y\n",
        "    di+=dz\n",
        "\n",
        "  a = a-eta*da\n",
        "  b = a-eta*db\n",
        "  c = a-eta*dc\n",
        "  d = a-eta*dd\n",
        "  e = a-eta*de\n",
        "  f = a-eta*df\n",
        "  g = a-eta*dg\n",
        "  h = a-eta*dh\n",
        "  i = a-eta*di\n",
        "\n",
        "print(\"a=%lf,b=%lf, c=%lf,d=%lf,e=%lf,f=%lf, g=%lf, h=%lf, i=%lf\" % (a,b,c,d,e,f,g,h,i))"
      ],
      "metadata": {
        "colab": {
          "base_uri": "https://localhost:8080/"
        },
        "id": "lK7-FrYmicej",
        "outputId": "0f3dd77a-b07b-457c-8b0d-abf9bead8c08"
      },
      "execution_count": 6,
      "outputs": [
        {
          "output_type": "stream",
          "name": "stdout",
          "text": [
            "a=-0.064517,b=-0.064491, c=-0.064514,d=-0.064485,e=-0.064491,f=-0.064514, g=-0.064566, h=-0.064566, i=-0.064812\n"
          ]
        }
      ]
    },
    {
      "cell_type": "code",
      "source": [
        "zValue = [0, 0, 0, 0, 0, 0]\n",
        "FinalzValue = [0, 0, 0, 0, 0, 0]\n",
        "\n",
        "for counter in range(1000000):\n",
        "  for idx in range(len(data)):\n",
        "    x = float(data[idx][0])\n",
        "    y = float(data[idx][1])\n",
        "    z1 = a*x + b*y + c\n",
        "    X = sigmoid(z1)\n",
        "    z2 = d*x + e*y + f\n",
        "    Y = sigmoid(z2)\n",
        "    z = g*Z + h*Y + i\n",
        "\n",
        "    zValue[idx] += z\n",
        "\n",
        "for idx in range(len(data)):\n",
        "  FinalzValue[idx] = zValue[idx]/1000000\n",
        "\n",
        "print(FinalzValue)"
      ],
      "metadata": {
        "colab": {
          "base_uri": "https://localhost:8080/"
        },
        "id": "F1xJ8iLfkK-z",
        "outputId": "73e0caf1-f11c-49d1-f308-02100415b8ce"
      },
      "execution_count": 8,
      "outputs": [
        {
          "output_type": "stream",
          "name": "stdout",
          "text": [
            "[-0.01720950725443132, -0.010417211264043474, -0.014903258894239652, -0.00794854140349, -0.011572570470768588, -0.006015516317966626]\n"
          ]
        }
      ]
    }
  ]
}